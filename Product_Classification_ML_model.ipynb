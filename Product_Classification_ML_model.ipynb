{
  "nbformat": 4,
  "nbformat_minor": 0,
  "metadata": {
    "colab": {
      "name": "Product Classification ML model.ipynb",
      "provenance": [],
      "collapsed_sections": []
    },
    "kernelspec": {
      "name": "python3",
      "display_name": "Python 3"
    },
    "language_info": {
      "name": "python"
    }
  },
  "cells": [
    {
      "cell_type": "code",
      "metadata": {
        "id": "QZm4Stkc7mgY",
        "colab": {
          "base_uri": "https://localhost:8080/"
        },
        "outputId": "849344f1-e698-46f1-b265-ab5ab21bebc9"
      },
      "source": [
        "from google.colab import drive\n",
        "\n",
        "drive.mount('/content/drive')"
      ],
      "execution_count": 9,
      "outputs": [
        {
          "output_type": "stream",
          "text": [
            "Drive already mounted at /content/drive; to attempt to forcibly remount, call drive.mount(\"/content/drive\", force_remount=True).\n"
          ],
          "name": "stdout"
        }
      ]
    },
    {
      "cell_type": "code",
      "metadata": {
        "id": "JToTs2FSoPUN",
        "colab": {
          "base_uri": "https://localhost:8080/"
        },
        "outputId": "9e0aa526-526f-4302-a007-e67f1f346b8e"
      },
      "source": [
        "import pandas as pd\n",
        "import numpy as np\n",
        "import seaborn as sns\n",
        "\n",
        "import matplotlib.pyplot as plt\n",
        "plt.style.use('ggplot')\n",
        "\n",
        "import nltk\n",
        "\n",
        "from nltk.tokenize import word_tokenize\n",
        "from nltk.corpus import stopwords, wordnet\n",
        "from nltk.stem import WordNetLemmatizer\n",
        "\n",
        "from sklearn.metrics import classification_report, confusion_matrix, accuracy_score\n",
        "\n",
        "nltk.download('punkt')\n",
        "nltk.download('stopwords')\n",
        "nltk.download('averaged_perceptron_tagger')\n",
        "nltk.download('wordnet')"
      ],
      "execution_count": 10,
      "outputs": [
        {
          "output_type": "stream",
          "text": [
            "[nltk_data] Downloading package punkt to /root/nltk_data...\n",
            "[nltk_data]   Package punkt is already up-to-date!\n",
            "[nltk_data] Downloading package stopwords to /root/nltk_data...\n",
            "[nltk_data]   Package stopwords is already up-to-date!\n",
            "[nltk_data] Downloading package averaged_perceptron_tagger to\n",
            "[nltk_data]     /root/nltk_data...\n",
            "[nltk_data]   Package averaged_perceptron_tagger is already up-to-\n",
            "[nltk_data]       date!\n",
            "[nltk_data] Downloading package wordnet to /root/nltk_data...\n",
            "[nltk_data]   Package wordnet is already up-to-date!\n"
          ],
          "name": "stdout"
        },
        {
          "output_type": "execute_result",
          "data": {
            "text/plain": [
              "True"
            ]
          },
          "metadata": {
            "tags": []
          },
          "execution_count": 10
        }
      ]
    },
    {
      "cell_type": "code",
      "metadata": {
        "id": "Zn6ceAoadWwG"
      },
      "source": [
        "# load csv file to pandas dataframe\n",
        "\n",
        "path = \"/content/drive/MyDrive/ML dataset/Product_Classification_dataset_15000.csv\"\n",
        "df = pd.read_csv(path)"
      ],
      "execution_count": 11,
      "outputs": []
    },
    {
      "cell_type": "code",
      "metadata": {
        "colab": {
          "base_uri": "https://localhost:8080/",
          "height": 306
        },
        "id": "-9_DdsSpYf84",
        "outputId": "04fe1e76-0e44-4e43-a709-a5a0bdfc8f59"
      },
      "source": [
        "df.head()"
      ],
      "execution_count": 12,
      "outputs": [
        {
          "output_type": "execute_result",
          "data": {
            "text/html": [
              "<div>\n",
              "<style scoped>\n",
              "    .dataframe tbody tr th:only-of-type {\n",
              "        vertical-align: middle;\n",
              "    }\n",
              "\n",
              "    .dataframe tbody tr th {\n",
              "        vertical-align: top;\n",
              "    }\n",
              "\n",
              "    .dataframe thead th {\n",
              "        text-align: right;\n",
              "    }\n",
              "</style>\n",
              "<table border=\"1\" class=\"dataframe\">\n",
              "  <thead>\n",
              "    <tr style=\"text-align: right;\">\n",
              "      <th></th>\n",
              "      <th>Unnamed: 0</th>\n",
              "      <th>TITLE</th>\n",
              "      <th>DESCRIPTION</th>\n",
              "      <th>BULLET_POINTS</th>\n",
              "      <th>BRAND</th>\n",
              "      <th>BROWSE_NODE_ID</th>\n",
              "    </tr>\n",
              "  </thead>\n",
              "  <tbody>\n",
              "    <tr>\n",
              "      <th>0</th>\n",
              "      <td>0</td>\n",
              "      <td>Pete The Cat Bedtime Blues Doll, 14.5 Inch</td>\n",
              "      <td>Pete the Cat is the coolest, most popular cat ...</td>\n",
              "      <td>[Pete the Cat Bedtime Blues plush doll,Based o...</td>\n",
              "      <td>MerryMakers</td>\n",
              "      <td>0</td>\n",
              "    </tr>\n",
              "    <tr>\n",
              "      <th>1</th>\n",
              "      <td>1</td>\n",
              "      <td>The New Yorker NYHM014 Refrigerator Magnet, 2 ...</td>\n",
              "      <td>The New Yorker Handsome Cello Wrapped Hard Mag...</td>\n",
              "      <td>[Cat In A Tea Cup by New Yorker cover artist G...</td>\n",
              "      <td>The New Yorker</td>\n",
              "      <td>1</td>\n",
              "    </tr>\n",
              "    <tr>\n",
              "      <th>2</th>\n",
              "      <td>2</td>\n",
              "      <td>The Ultimate Self-Sufficiency Handbook: A Comp...</td>\n",
              "      <td>NaN</td>\n",
              "      <td>Skyhorse Publishing</td>\n",
              "      <td>imusti</td>\n",
              "      <td>2</td>\n",
              "    </tr>\n",
              "    <tr>\n",
              "      <th>3</th>\n",
              "      <td>3</td>\n",
              "      <td>Amway Nutrilite Kids Chewable Iron Tablets (100)</td>\n",
              "      <td>NaN</td>\n",
              "      <td>[Nutrilite Kids,Chewable Iron Tablets,Quantity...</td>\n",
              "      <td>Amway</td>\n",
              "      <td>3</td>\n",
              "    </tr>\n",
              "    <tr>\n",
              "      <th>4</th>\n",
              "      <td>4</td>\n",
              "      <td>Teacher Planner Company A4 6 Lesson Academic T...</td>\n",
              "      <td>NaN</td>\n",
              "      <td>NaN</td>\n",
              "      <td>NaN</td>\n",
              "      <td>4</td>\n",
              "    </tr>\n",
              "  </tbody>\n",
              "</table>\n",
              "</div>"
            ],
            "text/plain": [
              "   Unnamed: 0  ... BROWSE_NODE_ID\n",
              "0           0  ...              0\n",
              "1           1  ...              1\n",
              "2           2  ...              2\n",
              "3           3  ...              3\n",
              "4           4  ...              4\n",
              "\n",
              "[5 rows x 6 columns]"
            ]
          },
          "metadata": {
            "tags": []
          },
          "execution_count": 12
        }
      ]
    },
    {
      "cell_type": "code",
      "metadata": {
        "id": "pZvg_jy0R8s9",
        "colab": {
          "base_uri": "https://localhost:8080/"
        },
        "outputId": "98d13235-076c-4908-a012-e6c97039e057"
      },
      "source": [
        "df.info()"
      ],
      "execution_count": 13,
      "outputs": [
        {
          "output_type": "stream",
          "text": [
            "<class 'pandas.core.frame.DataFrame'>\n",
            "RangeIndex: 15000 entries, 0 to 14999\n",
            "Data columns (total 6 columns):\n",
            " #   Column          Non-Null Count  Dtype \n",
            "---  ------          --------------  ----- \n",
            " 0   Unnamed: 0      15000 non-null  int64 \n",
            " 1   TITLE           14999 non-null  object\n",
            " 2   DESCRIPTION     11247 non-null  object\n",
            " 3   BULLET_POINTS   14032 non-null  object\n",
            " 4   BRAND           14653 non-null  object\n",
            " 5   BROWSE_NODE_ID  15000 non-null  int64 \n",
            "dtypes: int64(2), object(4)\n",
            "memory usage: 703.2+ KB\n"
          ],
          "name": "stdout"
        }
      ]
    },
    {
      "cell_type": "code",
      "metadata": {
        "id": "hKmEImBBeteO",
        "colab": {
          "base_uri": "https://localhost:8080/",
          "height": 282
        },
        "outputId": "8544d36a-3298-445f-d357-8749849a4d80"
      },
      "source": [
        "# count of browse node ID\n",
        "\n",
        "sns.histplot(df.BROWSE_NODE_ID, kde=True)\n",
        "plt.show()"
      ],
      "execution_count": 14,
      "outputs": [
        {
          "output_type": "display_data",
          "data": {
            "image/png": "[encoded data removed]",
            "text/plain": [
              "<Figure size 432x288 with 1 Axes>"
            ]
          },
          "metadata": {
            "tags": []
          }
        }
      ]
    },
    {
      "cell_type": "code",
      "metadata": {
        "id": "3D5OPB45RWSz",
        "colab": {
          "base_uri": "https://localhost:8080/",
          "height": 370
        },
        "outputId": "449285e0-4f63-4369-c388-f5ccd4a12d89"
      },
      "source": [
        "# heat map for null values in dataset\n",
        "\n",
        "sns.heatmap(df.isnull(), cmap='viridis')"
      ],
      "execution_count": 15,
      "outputs": [
        {
          "output_type": "execute_result",
          "data": {
            "text/plain": [
              "<matplotlib.axes._subplots.AxesSubplot at 0x7fd0fa5a3a50>"
            ]
          },
          "metadata": {
            "tags": []
          },
          "execution_count": 15
        },
        {
          "output_type": "display_data",
          "data": {
            "image/png": "[encoded data removed]",
            "text/plain": [
              "<Figure size 432x288 with 2 Axes>"
            ]
          },
          "metadata": {
            "tags": []
          }
        }
      ]
    },
    {
      "cell_type": "code",
      "metadata": {
        "id": "ls_t2QGJi_3p"
      },
      "source": [
        "# cleaning the dataset\n",
        "\n",
        "# deleting duplicate rows\n",
        "df.drop_duplicates(inplace=True)\n",
        "\n",
        "# dropping rows without title\n",
        "df = df.dropna(axis=0, subset=['TITLE'])\n",
        "\n",
        "# deleting special chars from TITLE, DESCRIPTION, BULLET_POINTS\n",
        "spec_chars = [\"!\",'\"',\"#\",\"%\",\"&\",\"'\",\"(\",\")\",\n",
        "              \"*\",\"+\",\",\",\"-\",\"/\",\":\",\";\",\"<\",\n",
        "              \"=\",\">\",\"?\",\"@\",\"[\",\"\\\\\",\"]\",\"^\",\"_\",\n",
        "              \"`\",\"{\",\"|\",\"}\",\"~\",\"–\"]\n",
        "for char in spec_chars:\n",
        "    df['TITLE'] = df['TITLE'].str.replace(char, ' ')\n",
        "    df['DESCRIPTION'] = df['DESCRIPTION'].str.replace(char, ' ')\n",
        "    df['BULLET_POINTS'] = df['BULLET_POINTS'].str.replace(char, ' ')\n",
        "  \n",
        "df['TITLE'] = df['TITLE'].str.split().str.join(\" \")\n",
        "df['DESCRIPTION'] = df['DESCRIPTION'].str.split().str.join(\" \")\n",
        "df['BULLET_POINTS'] = df['BULLET_POINTS'].str.split().str.join(\" \")\n",
        "\n",
        "# convert TITLE, DESCRIPTION, BULLET_POINTS, BRAND to lower case\n",
        "df['TITLE'] = df['TITLE'].str.lower()\n",
        "df['DESCRIPTION'] = df['DESCRIPTION'].str.lower()\n",
        "df['BULLET_POINTS'] = df['BULLET_POINTS'].str.lower()\n",
        "df['BRAND'] = df['BRAND'].str.lower()\n",
        "\n",
        "# Replace NaN values in description, bullet points, brands\n",
        "df['DESCRIPTION'] = df['DESCRIPTION'].replace(np.nan, '')\n",
        "df['BULLET_POINTS'] = df['BULLET_POINTS'].replace(np.nan, '')\n",
        "df['BRAND'] = df['BRAND'].replace(np.nan, '')\n",
        "\n",
        "# Removing rows without description, bullet points, brands\n",
        "indexNames = df[(df['DESCRIPTION'] == '') & (df['BULLET_POINTS'] == '') & (df['BRAND'] == '')].index\n",
        "df.drop(indexNames , inplace=True)"
      ],
      "execution_count": 16,
      "outputs": []
    },
    {
      "cell_type": "code",
      "metadata": {
        "colab": {
          "base_uri": "https://localhost:8080/"
        },
        "id": "Lb__YRqRYvKr",
        "outputId": "80f03a63-078e-4e03-9480-d364093b0240"
      },
      "source": [
        "df.info()"
      ],
      "execution_count": 17,
      "outputs": [
        {
          "output_type": "stream",
          "text": [
            "<class 'pandas.core.frame.DataFrame'>\n",
            "Int64Index: 14713 entries, 0 to 14999\n",
            "Data columns (total 6 columns):\n",
            " #   Column          Non-Null Count  Dtype \n",
            "---  ------          --------------  ----- \n",
            " 0   Unnamed: 0      14713 non-null  int64 \n",
            " 1   TITLE           14713 non-null  object\n",
            " 2   DESCRIPTION     14713 non-null  object\n",
            " 3   BULLET_POINTS   14713 non-null  object\n",
            " 4   BRAND           14713 non-null  object\n",
            " 5   BROWSE_NODE_ID  14713 non-null  int64 \n",
            "dtypes: int64(2), object(4)\n",
            "memory usage: 804.6+ KB\n"
          ],
          "name": "stdout"
        }
      ]
    },
    {
      "cell_type": "code",
      "metadata": {
        "id": "53579aFnATCX"
      },
      "source": [
        "# finalizing the data to be processed\n",
        "\n",
        "df['data'] = df['DESCRIPTION'].str.cat(df['BULLET_POINTS'], sep =\" \")\n",
        "df['data'] = df['BRAND'].str.cat(df['data'], sep =\" \")\n",
        "df['data'] = df['TITLE'].str.cat(df['data'], sep =\" \")"
      ],
      "execution_count": 18,
      "outputs": []
    },
    {
      "cell_type": "code",
      "metadata": {
        "colab": {
          "base_uri": "https://localhost:8080/",
          "height": 306
        },
        "id": "Rl3pVeSpY_wB",
        "outputId": "9d008b7d-5efd-4c81-9234-ea9867d2c8cd"
      },
      "source": [
        "df.head()"
      ],
      "execution_count": 19,
      "outputs": [
        {
          "output_type": "execute_result",
          "data": {
            "text/html": [
              "<div>\n",
              "<style scoped>\n",
              "    .dataframe tbody tr th:only-of-type {\n",
              "        vertical-align: middle;\n",
              "    }\n",
              "\n",
              "    .dataframe tbody tr th {\n",
              "        vertical-align: top;\n",
              "    }\n",
              "\n",
              "    .dataframe thead th {\n",
              "        text-align: right;\n",
              "    }\n",
              "</style>\n",
              "<table border=\"1\" class=\"dataframe\">\n",
              "  <thead>\n",
              "    <tr style=\"text-align: right;\">\n",
              "      <th></th>\n",
              "      <th>Unnamed: 0</th>\n",
              "      <th>TITLE</th>\n",
              "      <th>DESCRIPTION</th>\n",
              "      <th>BULLET_POINTS</th>\n",
              "      <th>BRAND</th>\n",
              "      <th>BROWSE_NODE_ID</th>\n",
              "      <th>data</th>\n",
              "    </tr>\n",
              "  </thead>\n",
              "  <tbody>\n",
              "    <tr>\n",
              "      <th>0</th>\n",
              "      <td>0</td>\n",
              "      <td>pete the cat bedtime blues doll 14.5 inch</td>\n",
              "      <td>pete the cat is the coolest most popular cat i...</td>\n",
              "      <td>pete the cat bedtime blues plush doll based on...</td>\n",
              "      <td>merrymakers</td>\n",
              "      <td>0</td>\n",
              "      <td>pete the cat bedtime blues doll 14.5 inch merr...</td>\n",
              "    </tr>\n",
              "    <tr>\n",
              "      <th>1</th>\n",
              "      <td>1</td>\n",
              "      <td>the new yorker nyhm014 refrigerator magnet 2 x...</td>\n",
              "      <td>the new yorker handsome cello wrapped hard mag...</td>\n",
              "      <td>cat in a tea cup by new yorker cover artist gu...</td>\n",
              "      <td>the new yorker</td>\n",
              "      <td>1</td>\n",
              "      <td>the new yorker nyhm014 refrigerator magnet 2 x...</td>\n",
              "    </tr>\n",
              "    <tr>\n",
              "      <th>2</th>\n",
              "      <td>2</td>\n",
              "      <td>the ultimate self sufficiency handbook a compl...</td>\n",
              "      <td></td>\n",
              "      <td>skyhorse publishing</td>\n",
              "      <td>imusti</td>\n",
              "      <td>2</td>\n",
              "      <td>the ultimate self sufficiency handbook a compl...</td>\n",
              "    </tr>\n",
              "    <tr>\n",
              "      <th>3</th>\n",
              "      <td>3</td>\n",
              "      <td>amway nutrilite kids chewable iron tablets 100</td>\n",
              "      <td></td>\n",
              "      <td>nutrilite kids chewable iron tablets quantity ...</td>\n",
              "      <td>amway</td>\n",
              "      <td>3</td>\n",
              "      <td>amway nutrilite kids chewable iron tablets 100...</td>\n",
              "    </tr>\n",
              "    <tr>\n",
              "      <th>5</th>\n",
              "      <td>5</td>\n",
              "      <td>men s full sleeve raglan t shirts denim t shir...</td>\n",
              "      <td>men s full sleeve raglan t shirts denim t shir...</td>\n",
              "      <td>color blue sleeve full sleeve material cotton ...</td>\n",
              "      <td>bhavya enterprise</td>\n",
              "      <td>5</td>\n",
              "      <td>men s full sleeve raglan t shirts denim t shir...</td>\n",
              "    </tr>\n",
              "  </tbody>\n",
              "</table>\n",
              "</div>"
            ],
            "text/plain": [
              "   Unnamed: 0  ...                                               data\n",
              "0           0  ...  pete the cat bedtime blues doll 14.5 inch merr...\n",
              "1           1  ...  the new yorker nyhm014 refrigerator magnet 2 x...\n",
              "2           2  ...  the ultimate self sufficiency handbook a compl...\n",
              "3           3  ...  amway nutrilite kids chewable iron tablets 100...\n",
              "5           5  ...  men s full sleeve raglan t shirts denim t shir...\n",
              "\n",
              "[5 rows x 7 columns]"
            ]
          },
          "metadata": {
            "tags": []
          },
          "execution_count": 19
        }
      ]
    },
    {
      "cell_type": "code",
      "metadata": {
        "id": "eyJLmmm5DjeO"
      },
      "source": [
        "# # lemmatizing data\n",
        "\n",
        "# # tokening data\n",
        "# df['tokenized'] = df['data'].apply(word_tokenize)\n",
        "\n",
        "# # removing stop words from tokenized data\n",
        "# stop_words = set(stopwords.words('english'))\n",
        "# df['stopwords_removed'] = df['tokenized'].apply(lambda x: [word for word in x if word not in stop_words])\n",
        "\n",
        "# # determining part of speech for each word\n",
        "# df['pos_tags'] = df['stopwords_removed'].apply(nltk.tag.pos_tag)\n",
        "\n",
        "# # converting parts of speech tags to wordnet’s format\n",
        "# def get_wordnet_pos(tag):\n",
        "#     if tag.startswith('J'):\n",
        "#         return wordnet.ADJ\n",
        "#     elif tag.startswith('V'):\n",
        "#         return wordnet.VERB\n",
        "#     elif tag.startswith('N'):\n",
        "#         return wordnet.NOUN\n",
        "#     elif tag.startswith('R'):\n",
        "#         return wordnet.ADV\n",
        "#     else:\n",
        "#         return wordnet.NOUN\n",
        "# df['wordnet_pos'] = df['pos_tags'].apply(lambda x: [(word, get_wordnet_pos(pos_tag)) for (word, pos_tag) in x])\n",
        "\n",
        "# # applying NLTK’s word lemmatizer\n",
        "# wnl = WordNetLemmatizer()\n",
        "# df['lemmatized'] = df['wordnet_pos'].apply(lambda x: [wnl.lemmatize(word, tag) for word, tag in x])\n",
        "\n",
        "# # convert lemmatized array to string\n",
        "# df['final_str'] = [' '.join(map(str,l)) for l in df['lemmatized']]\n",
        "\n",
        "# # dropping extra unwanted columns\n",
        "# df.drop(['tokenized', 'data', 'stopwords_removed', 'pos_tags', 'wordnet_pos', 'lemmatized'], axis='columns', inplace=True)"
      ],
      "execution_count": 20,
      "outputs": []
    },
    {
      "cell_type": "code",
      "metadata": {
        "id": "Uh5f3DnXlZ50"
      },
      "source": [
        "# stemming\n",
        "\n",
        "# tokening data\n",
        "df['tokenized'] = df['data'].apply(word_tokenize)\n",
        "\n",
        "# removing stop words from tokenized data\n",
        "stop_words = set(stopwords.words('english'))\n",
        "df['stopwords_removed'] = df['tokenized'].apply(lambda x: [word for word in x if word not in stop_words])\n",
        "\n",
        "from nltk.stem import PorterStemmer\n",
        "stemming = PorterStemmer()\n",
        "\n",
        "def stem_list(row):\n",
        "    my_list = row['stopwords_removed']\n",
        "    stemmed_list = [stemming.stem(word) for word in my_list]\n",
        "    return (stemmed_list)\n",
        "\n",
        "df['stemmed'] = df.apply(stem_list, axis=1)\n",
        "\n",
        "# convert stemmed array to string\n",
        "df['final_str'] = [' '.join(map(str,l)) for l in df['stemmed']]\n",
        "\n",
        "# dropping extra unwanted columns\n",
        "df.drop(['tokenized', 'data', 'stopwords_removed', 'stemmed'], axis='columns', inplace=True)"
      ],
      "execution_count": 21,
      "outputs": []
    },
    {
      "cell_type": "code",
      "metadata": {
        "id": "zOgP7yQETR-W"
      },
      "source": [
        "# creating tfidf vectors for final_str\n",
        "\n",
        "from sklearn.feature_extraction.text import TfidfVectorizer\n",
        "\n",
        "vectorizer = TfidfVectorizer()\n",
        "x = vectorizer.fit_transform(df['final_str'])\n",
        "df['vect'] = list(x.toarray())"
      ],
      "execution_count": 22,
      "outputs": []
    },
    {
      "cell_type": "code",
      "metadata": {
        "colab": {
          "base_uri": "https://localhost:8080/",
          "height": 391
        },
        "id": "T7jzLv0DZkKA",
        "outputId": "eac6bd55-7227-43d8-ff6e-40b9264320bf"
      },
      "source": [
        "df.head()"
      ],
      "execution_count": 23,
      "outputs": [
        {
          "output_type": "execute_result",
          "data": {
            "text/html": [
              "<div>\n",
              "<style scoped>\n",
              "    .dataframe tbody tr th:only-of-type {\n",
              "        vertical-align: middle;\n",
              "    }\n",
              "\n",
              "    .dataframe tbody tr th {\n",
              "        vertical-align: top;\n",
              "    }\n",
              "\n",
              "    .dataframe thead th {\n",
              "        text-align: right;\n",
              "    }\n",
              "</style>\n",
              "<table border=\"1\" class=\"dataframe\">\n",
              "  <thead>\n",
              "    <tr style=\"text-align: right;\">\n",
              "      <th></th>\n",
              "      <th>Unnamed: 0</th>\n",
              "      <th>TITLE</th>\n",
              "      <th>DESCRIPTION</th>\n",
              "      <th>BULLET_POINTS</th>\n",
              "      <th>BRAND</th>\n",
              "      <th>BROWSE_NODE_ID</th>\n",
              "      <th>final_str</th>\n",
              "      <th>vect</th>\n",
              "    </tr>\n",
              "  </thead>\n",
              "  <tbody>\n",
              "    <tr>\n",
              "      <th>0</th>\n",
              "      <td>0</td>\n",
              "      <td>pete the cat bedtime blues doll 14.5 inch</td>\n",
              "      <td>pete the cat is the coolest most popular cat i...</td>\n",
              "      <td>pete the cat bedtime blues plush doll based on...</td>\n",
              "      <td>merrymakers</td>\n",
              "      <td>0</td>\n",
              "      <td>pete cat bedtim blue doll 14.5 inch merrymak p...</td>\n",
              "      <td>[0.0, 0.0, 0.0, 0.0, 0.0, 0.0, 0.0, 0.0, 0.0, ...</td>\n",
              "    </tr>\n",
              "    <tr>\n",
              "      <th>1</th>\n",
              "      <td>1</td>\n",
              "      <td>the new yorker nyhm014 refrigerator magnet 2 x...</td>\n",
              "      <td>the new yorker handsome cello wrapped hard mag...</td>\n",
              "      <td>cat in a tea cup by new yorker cover artist gu...</td>\n",
              "      <td>the new yorker</td>\n",
              "      <td>1</td>\n",
              "      <td>new yorker nyhm014 refriger magnet 2 x 3.5 new...</td>\n",
              "      <td>[0.0, 0.0, 0.0, 0.0, 0.0, 0.0, 0.0, 0.0, 0.0, ...</td>\n",
              "    </tr>\n",
              "    <tr>\n",
              "      <th>2</th>\n",
              "      <td>2</td>\n",
              "      <td>the ultimate self sufficiency handbook a compl...</td>\n",
              "      <td></td>\n",
              "      <td>skyhorse publishing</td>\n",
              "      <td>imusti</td>\n",
              "      <td>2</td>\n",
              "      <td>ultim self suffici handbook complet guid bake ...</td>\n",
              "      <td>[0.0, 0.0, 0.0, 0.0, 0.0, 0.0, 0.0, 0.0, 0.0, ...</td>\n",
              "    </tr>\n",
              "    <tr>\n",
              "      <th>3</th>\n",
              "      <td>3</td>\n",
              "      <td>amway nutrilite kids chewable iron tablets 100</td>\n",
              "      <td></td>\n",
              "      <td>nutrilite kids chewable iron tablets quantity ...</td>\n",
              "      <td>amway</td>\n",
              "      <td>3</td>\n",
              "      <td>amway nutrilit kid chewabl iron tablet 100 amw...</td>\n",
              "      <td>[0.0, 0.0, 0.0, 0.0, 0.0, 0.0, 0.0, 0.0, 0.0, ...</td>\n",
              "    </tr>\n",
              "    <tr>\n",
              "      <th>5</th>\n",
              "      <td>5</td>\n",
              "      <td>men s full sleeve raglan t shirts denim t shir...</td>\n",
              "      <td>men s full sleeve raglan t shirts denim t shir...</td>\n",
              "      <td>color blue sleeve full sleeve material cotton ...</td>\n",
              "      <td>bhavya enterprise</td>\n",
              "      <td>5</td>\n",
              "      <td>men full sleev raglan shirt denim shirt size b...</td>\n",
              "      <td>[0.0, 0.0, 0.0, 0.0, 0.0, 0.0, 0.0, 0.0, 0.0, ...</td>\n",
              "    </tr>\n",
              "  </tbody>\n",
              "</table>\n",
              "</div>"
            ],
            "text/plain": [
              "   Unnamed: 0  ...                                               vect\n",
              "0           0  ...  [0.0, 0.0, 0.0, 0.0, 0.0, 0.0, 0.0, 0.0, 0.0, ...\n",
              "1           1  ...  [0.0, 0.0, 0.0, 0.0, 0.0, 0.0, 0.0, 0.0, 0.0, ...\n",
              "2           2  ...  [0.0, 0.0, 0.0, 0.0, 0.0, 0.0, 0.0, 0.0, 0.0, ...\n",
              "3           3  ...  [0.0, 0.0, 0.0, 0.0, 0.0, 0.0, 0.0, 0.0, 0.0, ...\n",
              "5           5  ...  [0.0, 0.0, 0.0, 0.0, 0.0, 0.0, 0.0, 0.0, 0.0, ...\n",
              "\n",
              "[5 rows x 8 columns]"
            ]
          },
          "metadata": {
            "tags": []
          },
          "execution_count": 23
        }
      ]
    },
    {
      "cell_type": "code",
      "metadata": {
        "id": "bMq52YJPpfPv"
      },
      "source": [
        "# splitting the model into 80% training and 20% testing data\n",
        "\n",
        "from sklearn.model_selection import train_test_split\n",
        "\n",
        "x_train, x_test, y_train, y_test = train_test_split(df['vect'].tolist(), df['BROWSE_NODE_ID'].tolist(), test_size=0.2, random_state=0)"
      ],
      "execution_count": 24,
      "outputs": []
    },
    {
      "cell_type": "code",
      "metadata": {
        "id": "Ctj4gtDSI4QT",
        "colab": {
          "base_uri": "https://localhost:8080/"
        },
        "outputId": "0b2fc28c-93aa-4317-c937-dbef14358ba6"
      },
      "source": [
        "# deploying LinearSVC\n",
        "\n",
        "from sklearn.svm import LinearSVC\n",
        "\n",
        "model = LinearSVC()\n",
        "model.fit(x_train, y_train)\n",
        "\n",
        "y_pred = model.predict(x_test)\n",
        "\n",
        "print(\"Using Linear SVC:\", accuracy_score(y_test, y_pred) * 100)"
      ],
      "execution_count": 25,
      "outputs": [
        {
          "output_type": "stream",
          "text": [
            "Using Linear SVC: 55.52157662249405\n"
          ],
          "name": "stdout"
        }
      ]
    },
    {
      "cell_type": "code",
      "metadata": {
        "id": "7kwUBK-lWyX3",
        "colab": {
          "base_uri": "https://localhost:8080/",
          "height": 282
        },
        "outputId": "08b20c62-3ebf-4bd1-b44c-d86252c836dc"
      },
      "source": [
        "# plotting actual vs predicted browse node ID\n",
        "\n",
        "fig,ax = plt.subplots()\n",
        "ax.scatter(y_test, y_pred)\n",
        "ax.plot([min(y_test), max(y_test)], [min(y_test), max(y_test)], 'k--')\n",
        "ax.set_xlabel('Actual')\n",
        "ax.set_ylabel('Predicted')\n",
        "fig.show()"
      ],
      "execution_count": 26,
      "outputs": [
        {
          "output_type": "display_data",
          "data": {
            "image/png": "[encoded data removed]",
            "text/plain": [
              "<Figure size 432x288 with 1 Axes>"
            ]
          },
          "metadata": {
            "tags": []
          }
        }
      ]
    },
    {
      "cell_type": "code",
      "metadata": {
        "id": "6SoFEarTstHh",
        "colab": {
          "base_uri": "https://localhost:8080/",
          "height": 265
        },
        "outputId": "427cff4e-dcaa-4d61-953d-e1e2e3f39edf"
      },
      "source": [
        "# count of predicted browse node ID\n",
        "\n",
        "sns.histplot(y_pred, kde=True)\n",
        "plt.show()"
      ],
      "execution_count": 27,
      "outputs": [
        {
          "output_type": "display_data",
          "data": {
            "image/png": "[encoded data removed]",
            "text/plain": [
              "<Figure size 432x288 with 1 Axes>"
            ]
          },
          "metadata": {
            "tags": []
          }
        }
      ]
    },
    {
      "cell_type": "code",
      "metadata": {
        "id": "8pcHgf4mrogA"
      },
      "source": [
        "# print(confusion_matrix(y_test,y_pred))\n",
        "# print(classification_report(y_test,y_pred))"
      ],
      "execution_count": 28,
      "outputs": []
    }
  ]
}